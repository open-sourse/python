{
 "cells": [
  {
   "cell_type": "code",
   "execution_count": 1,
   "metadata": {},
   "outputs": [
    {
     "name": "stdout",
     "output_type": "stream",
     "text": [
      "9 8 7 66 5 4 3 2 1\n",
      "66 3\n"
     ]
    }
   ],
   "source": [
    "max = 0\n",
    "index_of_max = -1\n",
    "s = input().split(' ')\n",
    "len = 0\n",
    "for i in s:\n",
    "    i = int(i)\n",
    "    if i > max:\n",
    "        max = i\n",
    "        index_of_max = len\n",
    "    len += 1\n",
    "print(max, index_of_max)"
   ]
  },
  {
   "cell_type": "code",
   "execution_count": null,
   "metadata": {},
   "outputs": [],
   "source": []
  }
 ],
 "metadata": {
  "kernelspec": {
   "display_name": "Python 3",
   "language": "python",
   "name": "python3"
  },
  "language_info": {
   "codemirror_mode": {
    "name": "ipython",
    "version": 3
   },
   "file_extension": ".py",
   "mimetype": "text/x-python",
   "name": "python",
   "nbconvert_exporter": "python",
   "pygments_lexer": "ipython3",
   "version": "3.6.8"
  }
 },
 "nbformat": 4,
 "nbformat_minor": 2
}
