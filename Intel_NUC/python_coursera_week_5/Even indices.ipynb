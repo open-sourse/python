{
 "cells": [
  {
   "cell_type": "code",
   "execution_count": null,
   "metadata": {},
   "outputs": [],
   "source": [
    "def merger(a, b):\n",
    "    new_list = []\n",
    "    d = a + b\n",
    "    while d:\n",
    "        delete_num = min(d)\n",
    "        while delete_num in d:\n",
    "            new_list.append(delete_num)\n",
    "            d.remove(delete_num)\n",
    "    return new_list\n",
    "list_a = list(map(int, input().split()))\n",
    "list_b = list(map(int, input().split()))\n",
    "list_c = merger(list_a, list_b)\n",
    "print(' '.join(map(str, list_c)))"
   ]
  },
  {
   "cell_type": "code",
   "execution_count": 3,
   "metadata": {},
   "outputs": [
    {
     "name": "stdout",
     "output_type": "stream",
     "text": [
      "1 3 5 7 9\n",
      "0 2 4 6 8 10 \n",
      "0 1 2 3 4 5 6 7 8 9 10\n"
     ]
    }
   ],
   "source": [
    "def merge(a, b):\n",
    "    c = []\n",
    "    i, j = 0, 0\n",
    "    while i < len(a) and j < len(b):\n",
    "        if a[i] <= b[j]:\n",
    "            c.append(a[i])\n",
    "            i += 1\n",
    "        else:\n",
    "            c.append(b[j])\n",
    "            j += 1\n",
    "    while i < len(a):\n",
    "        c.append(a[i])\n",
    "        i += 1\n",
    "    while j < len(b):\n",
    "        c.append(b[j])\n",
    "        j += 1\n",
    "    return c\n",
    "lista = list(map(int, input().split()))\n",
    "listb = list(map(int, input().split()))\n",
    "print(*merge(lista, listb))"
   ]
  },
  {
   "cell_type": "code",
   "execution_count": null,
   "metadata": {},
   "outputs": [],
   "source": []
  }
 ],
 "metadata": {
  "kernelspec": {
   "display_name": "Python 3",
   "language": "python",
   "name": "python3"
  },
  "language_info": {
   "codemirror_mode": {
    "name": "ipython",
    "version": 3
   },
   "file_extension": ".py",
   "mimetype": "text/x-python",
   "name": "python",
   "nbconvert_exporter": "python",
   "pygments_lexer": "ipython3",
   "version": "3.6.8"
  }
 },
 "nbformat": 4,
 "nbformat_minor": 2
}
