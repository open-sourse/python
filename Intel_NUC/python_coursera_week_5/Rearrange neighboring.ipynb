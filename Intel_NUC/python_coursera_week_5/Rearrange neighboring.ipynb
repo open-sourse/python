{
 "cells": [
  {
   "cell_type": "code",
   "execution_count": 1,
   "metadata": {},
   "outputs": [
    {
     "name": "stdout",
     "output_type": "stream",
     "text": [
      "1 2  3 4 5 6 7 8 9 0\n",
      "2 1 4 3 6 5 8 7 0 9\n"
     ]
    }
   ],
   "source": [
    "a = [int(i) for i in input().split()]\n",
    "for i in range(1, len(a), 2):\n",
    "    a[i - 1], a[i] = a[i], a[i - 1]\n",
    "print(' '.join([str(i) for i in a]))"
   ]
  },
  {
   "cell_type": "code",
   "execution_count": null,
   "metadata": {},
   "outputs": [],
   "source": []
  }
 ],
 "metadata": {
  "kernelspec": {
   "display_name": "Python 3",
   "language": "python",
   "name": "python3"
  },
  "language_info": {
   "codemirror_mode": {
    "name": "ipython",
    "version": 3
   },
   "file_extension": ".py",
   "mimetype": "text/x-python",
   "name": "python",
   "nbconvert_exporter": "python",
   "pygments_lexer": "ipython3",
   "version": "3.6.8"
  }
 },
 "nbformat": 4,
 "nbformat_minor": 2
}
