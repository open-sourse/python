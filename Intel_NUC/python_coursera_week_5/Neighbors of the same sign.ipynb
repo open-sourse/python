{
 "cells": [
  {
   "cell_type": "code",
   "execution_count": 7,
   "metadata": {},
   "outputs": [
    {
     "name": "stdout",
     "output_type": "stream",
     "text": [
      "1 -3 4 -2 1\n",
      "1 2\n",
      "4 5\n",
      "1 2\n"
     ]
    }
   ],
   "source": [
    "numList = list(map(int, input().split()))\n",
    "for element in numList:\n",
    "    if element and element + 1 > 0:\n",
    "        print(element, element + 1)"
   ]
  },
  {
   "cell_type": "code",
   "execution_count": 11,
   "metadata": {},
   "outputs": [
    {
     "name": "stdout",
     "output_type": "stream",
     "text": [
      "1 -3 4 -2 1\n",
      "1 [1, -3, 4, -2, 1]\n",
      "-3 [1, -3, 4, -2, 1]\n",
      "4 [1, -3, 4, -2, 1]\n",
      "-2 [1, -3, 4, -2, 1]\n",
      "1 [1, -3, 4, -2, 1]\n"
     ]
    }
   ],
   "source": [
    "numList = list(map(int, input().split()))\n",
    "for i in numList:\n",
    "    print(i, numList)"
   ]
  },
  {
   "cell_type": "code",
   "execution_count": 9,
   "metadata": {},
   "outputs": [
    {
     "name": "stdout",
     "output_type": "stream",
     "text": [
      "1 -3 4 -2 1\n",
      "1\n",
      "-3\n",
      "4\n",
      "-2\n",
      "1\n"
     ]
    }
   ],
   "source": [
    "numList = list(map(int, input().split()))\n",
    "for element in numList:\n",
    "    print(element)"
   ]
  },
  {
   "cell_type": "code",
   "execution_count": 13,
   "metadata": {},
   "outputs": [
    {
     "name": "stdout",
     "output_type": "stream",
     "text": [
      "1 2 3 4 5  6 \n",
      "6\n"
     ]
    }
   ],
   "source": [
    "num = list(map(int, input().split()))\n",
    "print(len(num))"
   ]
  },
  {
   "cell_type": "code",
   "execution_count": 27,
   "metadata": {},
   "outputs": [
    {
     "name": "stdout",
     "output_type": "stream",
     "text": [
      "0 1 5 7 4\n",
      "1 5\n",
      "5 7\n",
      "7 4\n"
     ]
    }
   ],
   "source": [
    "num = list(map(int, input().split()))\n",
    "i = 0\n",
    "while i < len(num)-1:\n",
    "    if num[i] > 0:\n",
    "        if  num[i+1] > 0:\n",
    "            if num[i+2] > 0:\n",
    "                b\n",
    "            print(num[i], num[i+1])\n",
    "    i = i + 1"
   ]
  },
  {
   "cell_type": "code",
   "execution_count": 30,
   "metadata": {},
   "outputs": [
    {
     "name": "stdout",
     "output_type": "stream",
     "text": [
      "5 3 4 6 7 8 5 4 3\n",
      "5 3\n"
     ]
    }
   ],
   "source": [
    "num = [int(i) for i in input().split()]\n",
    "for i in range(1, len(num)):\n",
    "    if num[i - 1] * num[i] > 0:\n",
    "        print(num[i - 1], num[i])\n",
    "        break"
   ]
  },
  {
   "cell_type": "code",
   "execution_count": null,
   "metadata": {},
   "outputs": [],
   "source": []
  }
 ],
 "metadata": {
  "kernelspec": {
   "display_name": "Python 3",
   "language": "python",
   "name": "python3"
  },
  "language_info": {
   "codemirror_mode": {
    "name": "ipython",
    "version": 3
   },
   "file_extension": ".py",
   "mimetype": "text/x-python",
   "name": "python",
   "nbconvert_exporter": "python",
   "pygments_lexer": "ipython3",
   "version": "3.6.8"
  }
 },
 "nbformat": 4,
 "nbformat_minor": 2
}
