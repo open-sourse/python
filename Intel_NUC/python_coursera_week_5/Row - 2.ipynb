{
 "cells": [
  {
   "cell_type": "code",
   "execution_count": 27,
   "metadata": {},
   "outputs": [
    {
     "name": "stdout",
     "output_type": "stream",
     "text": [
      "10\n",
      "-5\n",
      "-6\n",
      "16 -5\n",
      "15 -4\n",
      "14 -3\n",
      "13 -2\n",
      "12 -1\n",
      "11 0\n",
      "10 1\n",
      "9 2\n",
      "8 3\n",
      "7 4\n",
      "6 5\n",
      "5 6\n",
      "4 7\n",
      "3 8\n",
      "2 9\n",
      "1 "
     ]
    }
   ],
   "source": [
    "a = int(input())\n",
    "b = int(input())\n",
    "if a < b:\n",
    "    for i in range(a, b + 1):\n",
    "        print(i, end = \" \")\n",
    "if a > b:\n",
    "    a1 = b\n",
    "    b1 = a\n",
    "    for i in range(a1-1, b1):\n",
    "        print(i)\n",
    "        print(a-i, end = \" \")\n",
    "if a == b:\n",
    "    print(a)"
   ]
  },
  {
   "cell_type": "code",
   "execution_count": 19,
   "metadata": {},
   "outputs": [
    {
     "name": "stdout",
     "output_type": "stream",
     "text": [
      "10\n",
      "1\n",
      "10 9 8 7 6 5 4 3 2 1 "
     ]
    }
   ],
   "source": [
    "a = int(input())\n",
    "b = int(input())\n",
    "a1 = b\n",
    "b1 = a\n",
    "for i in range(a1-1, b1):\n",
    "    print(i)\n",
    "    print(a-i, end = \" \")"
   ]
  },
  {
   "cell_type": "code",
   "execution_count": 31,
   "metadata": {},
   "outputs": [
    {
     "name": "stdout",
     "output_type": "stream",
     "text": [
      "10\n",
      "-5\n",
      "10 9 8 7 6 5 4 3 2 1 0 -1 -2 -3 -4 -5 "
     ]
    }
   ],
   "source": [
    "a = int(input())\n",
    "b = int(input())\n",
    "if a < b:\n",
    "    for i in range(a, b + 1):\n",
    "        print(i, end=\" \")\n",
    "else:\n",
    "    for i in range(a, b - 1, -1):\n",
    "        print(i, end=\" \")"
   ]
  },
  {
   "cell_type": "code",
   "execution_count": null,
   "metadata": {},
   "outputs": [],
   "source": []
  }
 ],
 "metadata": {
  "kernelspec": {
   "display_name": "Python 3",
   "language": "python",
   "name": "python3"
  },
  "language_info": {
   "codemirror_mode": {
    "name": "ipython",
    "version": 3
   },
   "file_extension": ".py",
   "mimetype": "text/x-python",
   "name": "python",
   "nbconvert_exporter": "python",
   "pygments_lexer": "ipython3",
   "version": "3.6.8"
  }
 },
 "nbformat": 4,
 "nbformat_minor": 2
}
