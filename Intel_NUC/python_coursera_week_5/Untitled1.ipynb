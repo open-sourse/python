{
 "cells": [
  {
   "cell_type": "code",
   "execution_count": 6,
   "metadata": {},
   "outputs": [
    {
     "name": "stdout",
     "output_type": "stream",
     "text": [
      "1 2 3 5 \n",
      "2\n",
      "3\n",
      "1 2 3 5\n"
     ]
    }
   ],
   "source": [
    "num = list(map(int, input().split()))\n",
    "n = int(input())\n",
    "с = int(input())\n",
    "len(num)\n",
    "l = list();\n",
    "i = 0\n",
    "while i > len(num):\n",
    "    num.append(3)\n",
    "    print(l)\n",
    "    i = i + 1\n",
    "print(' '.join(map(str, num)))"
   ]
  },
  {
   "cell_type": "markdown",
   "metadata": {},
   "source": [
    "## "
   ]
  }
 ],
 "metadata": {
  "kernelspec": {
   "display_name": "Python 3",
   "language": "python",
   "name": "python3"
  },
  "language_info": {
   "codemirror_mode": {
    "name": "ipython",
    "version": 3
   },
   "file_extension": ".py",
   "mimetype": "text/x-python",
   "name": "python",
   "nbconvert_exporter": "python",
   "pygments_lexer": "ipython3",
   "version": "3.6.8"
  }
 },
 "nbformat": 4,
 "nbformat_minor": 2
}
