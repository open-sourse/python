{
 "cells": [
  {
   "cell_type": "code",
   "execution_count": 24,
   "metadata": {},
   "outputs": [
    {
     "name": "stdout",
     "output_type": "stream",
     "text": [
      "qwertyuiop\n",
      "e\n",
      "o\n",
      "qwert\n",
      "qwertyui\n",
      "qetuo\n",
      "wryip\n",
      "poiuytrewq\n",
      "piyrw\n",
      "10\n"
     ]
    }
   ],
   "source": [
    "string = input()\n",
    "#substring = input()\n",
    "n = len(string)\n",
    "#print(n)\n",
    "print(string[2])\n",
    "print(string[-2])\n",
    "print(string[0:5])\n",
    "print(string[0:-2])\n",
    "print(string[::2])\n",
    "print(string[1::2])\n",
    "print(string[::-1])\n",
    "print(string[::-2])\n",
    "print(len(string))\n"
   ]
  }
 ],
 "metadata": {
  "kernelspec": {
   "display_name": "Python 3",
   "language": "python",
   "name": "python3"
  },
  "language_info": {
   "codemirror_mode": {
    "name": "ipython",
    "version": 3
   },
   "file_extension": ".py",
   "mimetype": "text/x-python",
   "name": "python",
   "nbconvert_exporter": "python",
   "pygments_lexer": "ipython3",
   "version": "3.6.8"
  }
 },
 "nbformat": 4,
 "nbformat_minor": 2
}
