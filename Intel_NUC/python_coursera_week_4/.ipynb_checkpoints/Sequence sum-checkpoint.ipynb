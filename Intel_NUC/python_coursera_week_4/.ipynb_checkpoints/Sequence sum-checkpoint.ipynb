{
 "cells": [
  {
   "cell_type": "code",
   "execution_count": 2,
   "metadata": {},
   "outputs": [
    {
     "name": "stdout",
     "output_type": "stream",
     "text": [
      "1\n",
      "7\n",
      "9\n",
      "0\n",
      "17\n"
     ]
    }
   ],
   "source": [
    "def sum(summary=0):\n",
    "    num = -1\n",
    "    try:\n",
    "        num = int(input())\n",
    "    except ValueError as err:\n",
    "        print(err)\n",
    "        print('Enter the number') \n",
    "    else:\n",
    "        summary += num\n",
    "    if num != 0:\n",
    "        return sum(summary)\n",
    "    return summary\n",
    "    \n",
    "print(sum())"
   ]
  },
  {
   "cell_type": "code",
   "execution_count": null,
   "metadata": {},
   "outputs": [],
   "source": []
  }
 ],
 "metadata": {
  "kernelspec": {
   "display_name": "Python 3",
   "language": "python",
   "name": "python3"
  },
  "language_info": {
   "codemirror_mode": {
    "name": "ipython",
    "version": 3
   },
   "file_extension": ".py",
   "mimetype": "text/x-python",
   "name": "python",
   "nbconvert_exporter": "python",
   "pygments_lexer": "ipython3",
   "version": "3.6.8"
  }
 },
 "nbformat": 4,
 "nbformat_minor": 2
}
