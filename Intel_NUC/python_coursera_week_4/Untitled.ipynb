{
 "cells": [
  {
   "cell_type": "code",
   "execution_count": 1,
   "metadata": {},
   "outputs": [],
   "source": [
    "def say_hello():\n",
    "    print(\"Hello\")"
   ]
  },
  {
   "cell_type": "code",
   "execution_count": 2,
   "metadata": {},
   "outputs": [
    {
     "name": "stdout",
     "output_type": "stream",
     "text": [
      "Hello\n",
      "Hello\n",
      "Hello\n"
     ]
    }
   ],
   "source": [
    "def say_hello():\n",
    "    print(\"Hello\")\n",
    "     \n",
    "say_hello()\n",
    "say_hello()\n",
    "say_hello()"
   ]
  },
  {
   "cell_type": "code",
   "execution_count": 3,
   "metadata": {},
   "outputs": [
    {
     "name": "stdout",
     "output_type": "stream",
     "text": [
      "Hello, Tom\n",
      "Hello, Bob\n",
      "Hello, Alice\n"
     ]
    }
   ],
   "source": [
    "def say_hello(name):\n",
    "    print(\"Hello,\",name)\n",
    " \n",
    "say_hello(\"Tom\")\n",
    "say_hello(\"Bob\")\n",
    "say_hello(\"Alice\")"
   ]
  },
  {
   "cell_type": "code",
   "execution_count": 4,
   "metadata": {},
   "outputs": [
    {
     "name": "stdout",
     "output_type": "stream",
     "text": [
      "Hello, Tom\n",
      "Hello, Bob\n"
     ]
    }
   ],
   "source": [
    "def say_hello(name=\"Tom\"):\n",
    "    print(\"Hello,\", name)\n",
    "     \n",
    "say_hello()\n",
    "say_hello(\"Bob\")"
   ]
  },
  {
   "cell_type": "code",
   "execution_count": 5,
   "metadata": {},
   "outputs": [
    {
     "name": "stdout",
     "output_type": "stream",
     "text": [
      "Name: Tom \t Age: 22\n"
     ]
    }
   ],
   "source": [
    "def display_info(name, age):\n",
    "    print(\"Name:\", name, \"\\t\", \"Age:\", age)\n",
    "     \n",
    "display_info(\"Tom\", 22)"
   ]
  },
  {
   "cell_type": "code",
   "execution_count": 6,
   "metadata": {},
   "outputs": [
    {
     "name": "stdout",
     "output_type": "stream",
     "text": [
      "Name: Tom \t Age: 22\n"
     ]
    }
   ],
   "source": [
    "def display_info(name, age):\n",
    "    print(\"Name:\", name, \"\\t\", \"Age:\", age)\n",
    "     \n",
    "display_info(age=22, name=\"Tom\")"
   ]
  },
  {
   "cell_type": "code",
   "execution_count": 7,
   "metadata": {},
   "outputs": [
    {
     "name": "stdout",
     "output_type": "stream",
     "text": [
      "15\n",
      "18\n"
     ]
    }
   ],
   "source": [
    "def sum(*params):\n",
    "    result = 0\n",
    "    for n in params:\n",
    "        result += n\n",
    "    return result\n",
    " \n",
    " \n",
    "sumOfNumbers1 = sum(1, 2, 3, 4, 5)      # 15\n",
    "sumOfNumbers2 = sum(3, 4, 5, 6)         # 18\n",
    "print(sumOfNumbers1)\n",
    "print(sumOfNumbers2)\n"
   ]
  }
 ],
 "metadata": {
  "kernelspec": {
   "display_name": "Python 3",
   "language": "python",
   "name": "python3"
  },
  "language_info": {
   "codemirror_mode": {
    "name": "ipython",
    "version": 3
   },
   "file_extension": ".py",
   "mimetype": "text/x-python",
   "name": "python",
   "nbconvert_exporter": "python",
   "pygments_lexer": "ipython3",
   "version": "3.6.8"
  }
 },
 "nbformat": 4,
 "nbformat_minor": 2
}
