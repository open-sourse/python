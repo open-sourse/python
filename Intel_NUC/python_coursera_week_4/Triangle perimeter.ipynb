{
 "cells": [
  {
   "cell_type": "code",
   "execution_count": 1,
   "metadata": {},
   "outputs": [
    {
     "name": "stdout",
     "output_type": "stream",
     "text": [
      "0\n",
      "0\n",
      "1\n",
      "0\n",
      "0\n",
      "1\n",
      "3.414213562373095\n"
     ]
    }
   ],
   "source": [
    "x1 = float(input())\n",
    "y1 = float(input())\n",
    "x2 = float(input())\n",
    "y2 = float(input())\n",
    "x3 = float(input())\n",
    "y3 = float(input())\n",
    "\n",
    "\n",
    "def distance(x1, y1, x2, y2, x3, y3):\n",
    "    L1 = ((x1-x2)**2 + (y1-y2)**2)**0.5\n",
    "    L2 = ((x2-x3)**2 + (y2-y3)**2)**0.5\n",
    "    L3 = ((x1-x3)**2 + (y1-y3)**2)**0.5\n",
    "    print(L1+L2+L3)\n",
    "distance(x1, y1, x2, y2, x3, y3)"
   ]
  },
  {
   "cell_type": "code",
   "execution_count": null,
   "metadata": {},
   "outputs": [],
   "source": []
  }
 ],
 "metadata": {
  "kernelspec": {
   "display_name": "Python 3",
   "language": "python",
   "name": "python3"
  },
  "language_info": {
   "codemirror_mode": {
    "name": "ipython",
    "version": 3
   },
   "file_extension": ".py",
   "mimetype": "text/x-python",
   "name": "python",
   "nbconvert_exporter": "python",
   "pygments_lexer": "ipython3",
   "version": "3.6.8"
  }
 },
 "nbformat": 4,
 "nbformat_minor": 2
}
