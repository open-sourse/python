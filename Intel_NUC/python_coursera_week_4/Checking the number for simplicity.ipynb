{
 "cells": [
  {
   "cell_type": "code",
   "execution_count": 1,
   "metadata": {},
   "outputs": [
    {
     "name": "stdout",
     "output_type": "stream",
     "text": [
      "10\n",
      "NO\n",
      "YES\n"
     ]
    }
   ],
   "source": [
    "import math\n",
    "n = int(input())\n",
    "if n < 2:\n",
    "    print(\"A number must be 2 and more\")\n",
    "    quit()\n",
    "elif n == 2:\n",
    "    print(\"YES\")\n",
    "    quit()\n",
    "i = 2\n",
    "limit = int(math.sqrt(n))\n",
    "while i <= limit:\n",
    "    if n % i == 0:\n",
    "        print(\"NO\")\n",
    "        quit()\n",
    "    i += 1\n",
    "print(\"YES\")"
   ]
  },
  {
   "cell_type": "code",
   "execution_count": 4,
   "metadata": {},
   "outputs": [
    {
     "name": "stdout",
     "output_type": "stream",
     "text": [
      "5\n",
      "YES\n"
     ]
    }
   ],
   "source": [
    "def IsPrime(n):\n",
    "    k = 2\n",
    "    p = 0\n",
    "    while k <= pow(n,0.5) and k > 1:\n",
    "        if n % k == 0:\n",
    "            p +=1\n",
    "        k +=1\n",
    "    return p == 0\n",
    " \n",
    " \n",
    "n = int(input())\n",
    "if IsPrime(n):\n",
    "    print(\"YES\")\n",
    "else:\n",
    "    print(\"NO\")"
   ]
  },
  {
   "cell_type": "code",
   "execution_count": 2,
   "metadata": {},
   "outputs": [
    {
     "data": {
      "text/plain": [
       "10"
      ]
     },
     "execution_count": 2,
     "metadata": {},
     "output_type": "execute_result"
    },
    {
     "name": "stderr",
     "output_type": "stream",
     "text": [
      "ERROR:root:Invalid alias: The name clear can't be aliased because it is another magic command.\n",
      "ERROR:root:Invalid alias: The name more can't be aliased because it is another magic command.\n",
      "ERROR:root:Invalid alias: The name less can't be aliased because it is another magic command.\n",
      "ERROR:root:Invalid alias: The name man can't be aliased because it is another magic command.\n"
     ]
    }
   ],
   "source": [
    "10"
   ]
  }
 ],
 "metadata": {
  "kernelspec": {
   "display_name": "Python 3",
   "language": "python",
   "name": "python3"
  },
  "language_info": {
   "codemirror_mode": {
    "name": "ipython",
    "version": 3
   },
   "file_extension": ".py",
   "mimetype": "text/x-python",
   "name": "python",
   "nbconvert_exporter": "python",
   "pygments_lexer": "ipython3",
   "version": "3.6.8"
  }
 },
 "nbformat": 4,
 "nbformat_minor": 2
}
