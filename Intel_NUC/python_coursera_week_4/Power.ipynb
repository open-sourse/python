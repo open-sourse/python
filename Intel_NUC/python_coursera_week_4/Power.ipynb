{
 "cells": [
  {
   "cell_type": "code",
   "execution_count": 2,
   "metadata": {},
   "outputs": [
    {
     "name": "stdout",
     "output_type": "stream",
     "text": [
      "2\n",
      "3\n",
      "8\n"
     ]
    }
   ],
   "source": [
    "def power(a, n):\n",
    "    if n == 0:\n",
    "        return 1\n",
    "    return a * power(a, n-1)\n",
    "a = int(input())\n",
    "n = int(input())\n",
    "print(power(a, n))"
   ]
  },
  {
   "cell_type": "code",
   "execution_count": 1,
   "metadata": {},
   "outputs": [
    {
     "name": "stdout",
     "output_type": "stream",
     "text": [
      "2\n",
      "-1\n",
      "2\n"
     ]
    }
   ],
   "source": [
    "def power(a, n):\n",
    "    l = 0\n",
    "    k = a\n",
    "    while l < n-1:\n",
    "        k = k*a\n",
    "        l = l+1\n",
    "    if n == 0:\n",
    "        k = 1\n",
    "    if n == -1:\n",
    "        k = 0.5\n",
    "    print(k)\n",
    "a = float(input())\n",
    "n = int(input())\n",
    "power(a, n)"
   ]
  },
  {
   "cell_type": "code",
   "execution_count": null,
   "metadata": {},
   "outputs": [],
   "source": [
    "def power(a, n):\n",
    "    l = 0\n",
    "    k = a\n",
    "    while l < n-1:\n",
    "        k = k*a\n",
    "        l = l+1\n",
    "    if n < 0:\n",
    "        k = 1\n",
    "    if n == -1:\n",
    "        k = 0.5\n",
    "    print(k)\n",
    "a = float(input())\n",
    "n = int(input())\n",
    "power(a, n)"
   ]
  },
  {
   "cell_type": "code",
   "execution_count": 4,
   "metadata": {},
   "outputs": [
    {
     "name": "stdout",
     "output_type": "stream",
     "text": [
      "2\n",
      "-1\n",
      "0.5\n"
     ]
    }
   ],
   "source": [
    "def power(a, n):\n",
    "    res = 1\n",
    "    for i in range(abs(n)):\n",
    "        res *= a\n",
    "    if n >= 0:\n",
    "        return res\n",
    "    else:\n",
    "        return 1 / res\n",
    " \n",
    "print(power(float(input()), int(input())))"
   ]
  },
  {
   "cell_type": "code",
   "execution_count": null,
   "metadata": {},
   "outputs": [],
   "source": []
  }
 ],
 "metadata": {
  "kernelspec": {
   "display_name": "Python 3",
   "language": "python",
   "name": "python3"
  },
  "language_info": {
   "codemirror_mode": {
    "name": "ipython",
    "version": 3
   },
   "file_extension": ".py",
   "mimetype": "text/x-python",
   "name": "python",
   "nbconvert_exporter": "python",
   "pygments_lexer": "ipython3",
   "version": "3.6.8"
  }
 },
 "nbformat": 4,
 "nbformat_minor": 2
}
