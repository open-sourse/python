{
 "cells": [
  {
   "cell_type": "code",
   "execution_count": 4,
   "metadata": {},
   "outputs": [
    {
     "name": "stdout",
     "output_type": "stream",
     "text": [
      "0.5\n",
      "0.5\n",
      "0\n",
      "0\n",
      "1\n",
      "YES\n"
     ]
    }
   ],
   "source": [
    "def  IsPointInCircle(x, y, xc, yc, r):\n",
    "    return (x-xc)*(x-xc)+(y-yc)*(y-yc)<=r*r\n",
    "\n",
    "x = float(input())\n",
    "y = float(input())\n",
    "xc = float(input())\n",
    "yc = float(input())\n",
    "r = float(input())\n",
    "if IsPointInCircle(x, y, xc, yc, r):\n",
    "    print(\"YES\")\n",
    "else:\n",
    "    print(\"NO\")"
   ]
  },
  {
   "cell_type": "code",
   "execution_count": 6,
   "metadata": {},
   "outputs": [
    {
     "name": "stdout",
     "output_type": "stream",
     "text": [
      "0.5\n",
      "0.5\n",
      "0\n",
      "0\n",
      "1\n",
      "YES\n"
     ]
    }
   ],
   "source": [
    "x = float(input())\n",
    "y = float(input())\n",
    "xc = float(input())\n",
    "yc = float(input())\n",
    "r = float(input())\n",
    "if IsPointInCircle(x, y, xc, yc, r):\n",
    "    print(\"YES\")\n",
    "else:\n",
    "    print(\"NO\")\n",
    "\n",
    "\n",
    "def IsPointInCircle(x, y, xc, yc, r):\n",
    "    return (x-xc)*(x-xc)+(y-yc)*(y-yc) <= r*r"
   ]
  },
  {
   "cell_type": "code",
   "execution_count": null,
   "metadata": {},
   "outputs": [],
   "source": []
  }
 ],
 "metadata": {
  "kernelspec": {
   "display_name": "Python 3",
   "language": "python",
   "name": "python3"
  },
  "language_info": {
   "codemirror_mode": {
    "name": "ipython",
    "version": 3
   },
   "file_extension": ".py",
   "mimetype": "text/x-python",
   "name": "python",
   "nbconvert_exporter": "python",
   "pygments_lexer": "ipython3",
   "version": "3.6.8"
  }
 },
 "nbformat": 4,
 "nbformat_minor": 2
}
