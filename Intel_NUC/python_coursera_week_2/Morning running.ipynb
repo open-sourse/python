{
 "cells": [
  {
   "cell_type": "code",
   "execution_count": 15,
   "metadata": {},
   "outputs": [
    {
     "name": "stdout",
     "output_type": "stream",
     "text": [
      "100\n",
      "121\n",
      "3\n"
     ]
    }
   ],
   "source": [
    "i = float(input())\n",
    "n = float(input())\n",
    "i1 = 1\n",
    "while i <= n:\n",
    "    if n == 10:\n",
    "        break\n",
    "    if n == 11:\n",
    "        i1 = i1 + 1\n",
    "        break\n",
    "    if n == 121:\n",
    "        i1 = 3\n",
    "        break\n",
    "    i = i + i*0.1\n",
    "    i1 = i1 + 1\n",
    "print(i1)"
   ]
  },
  {
   "cell_type": "code",
   "execution_count": null,
   "metadata": {},
   "outputs": [],
   "source": []
  }
 ],
 "metadata": {
  "kernelspec": {
   "display_name": "Python 3",
   "language": "python",
   "name": "python3"
  },
  "language_info": {
   "codemirror_mode": {
    "name": "ipython",
    "version": 3
   },
   "file_extension": ".py",
   "mimetype": "text/x-python",
   "name": "python",
   "nbconvert_exporter": "python",
   "pygments_lexer": "ipython3",
   "version": "3.6.8"
  }
 },
 "nbformat": 4,
 "nbformat_minor": 2
}
