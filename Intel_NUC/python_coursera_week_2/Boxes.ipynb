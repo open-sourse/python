{
 "cells": [
  {
   "cell_type": "code",
   "execution_count": 8,
   "metadata": {},
   "outputs": [
    {
     "name": "stdout",
     "output_type": "stream",
     "text": [
      "1\n",
      "2\n",
      "3\n",
      "1\n",
      "2\n",
      "3\n",
      "Boxes are equal\n",
      "Boxes are incomparable\n"
     ]
    }
   ],
   "source": [
    "#первая коробка\n",
    "A1 = int(input())\n",
    "B1 = int(input())\n",
    "C1 = int(input())\n",
    "#вторая коробка\n",
    "A2 = int(input())\n",
    "B2 = int(input())\n",
    "C2 = int(input())\n",
    "if A1 == A2 and B1 == B2 and C1 == C2:\n",
    "    print(\"Boxes are equal\")\n",
    "if A1 > A2 and B1 > B2 and C1 > C2:\n",
    "    print(\"The first box is larger than the second one\")\n",
    "if A1 < A2 and B1 < B2 and C1 < C2:\n",
    "    print(\"The first box is smaller than the second one\")\n",
    "if:\n",
    "    print(\"Boxes are incomparable\")"
   ]
  },
  {
   "cell_type": "markdown",
   "metadata": {},
   "source": [
    "## "
   ]
  }
 ],
 "metadata": {
  "kernelspec": {
   "display_name": "Python 3",
   "language": "python",
   "name": "python3"
  },
  "language_info": {
   "codemirror_mode": {
    "name": "ipython",
    "version": 3
   },
   "file_extension": ".py",
   "mimetype": "text/x-python",
   "name": "python",
   "nbconvert_exporter": "python",
   "pygments_lexer": "ipython3",
   "version": "3.6.8"
  }
 },
 "nbformat": 4,
 "nbformat_minor": 2
}
