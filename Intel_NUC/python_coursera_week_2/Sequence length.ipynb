{
 "cells": [
  {
   "cell_type": "code",
   "execution_count": 7,
   "metadata": {},
   "outputs": [
    {
     "name": "stdout",
     "output_type": "stream",
     "text": [
      "1\n",
      "2\n",
      "3\n",
      "4\n",
      "5\n",
      "66\n",
      "1\n",
      "5\n",
      "9\n",
      "4\n",
      "3\n",
      "0\n",
      "11\n"
     ]
    }
   ],
   "source": [
    "max = 0\n",
    "m = 0\n",
    "element = -1\n",
    "i = 0\n",
    "while element != 0:\n",
    "    element = int(input())\n",
    "    m = m + element\n",
    "    i = i + 1\n",
    "    if element == 0 :\n",
    "        break\n",
    "print(i-1)"
   ]
  },
  {
   "cell_type": "code",
   "execution_count": null,
   "metadata": {},
   "outputs": [],
   "source": [
    "8\n"
   ]
  }
 ],
 "metadata": {
  "kernelspec": {
   "display_name": "Python 3",
   "language": "python",
   "name": "python3"
  },
  "language_info": {
   "codemirror_mode": {
    "name": "ipython",
    "version": 3
   },
   "file_extension": ".py",
   "mimetype": "text/x-python",
   "name": "python",
   "nbconvert_exporter": "python",
   "pygments_lexer": "ipython3",
   "version": "3.6.8"
  }
 },
 "nbformat": 4,
 "nbformat_minor": 2
}
