{
 "cells": [
  {
   "cell_type": "code",
   "execution_count": 5,
   "metadata": {},
   "outputs": [
    {
     "name": "stdout",
     "output_type": "stream",
     "text": [
      "65\n",
      "65 korov\n"
     ]
    }
   ],
   "source": [
    "x = int(input())\n",
    "if x == 1 or x == 21 or x == 31 or x == 41 or x == 51 or x == 61:\n",
    "    print(x, \"korova\")\n",
    "if 1 < x < 5 or 21 < x < 25 or 31 < x < 35 or 41 < x < 45 or 51 < x < 55:\n",
    "    print(x, \"korovy\")\n",
    "if 4< x < 21 or 24 < x < 31 or 34 < x < 41 or 44 < x < 51 or 54 < x < 61:\n",
    "    print(x, \"korov\")\n",
    "if x == 71 or x == 81 or x == 91:\n",
    "    print(x, \"korova\")\n",
    "if 61 < x < 65 or 71 < x < 75 or 81 < x < 85 or 91 < x < 96:\n",
    "    print(x, \"korovy\")\n",
    "if 64 < x < 71 or 74 < x < 81 or 84 < x < 91 or 94 < x <101:\n",
    "    print(x, \"korov\")"
   ]
  },
  {
   "cell_type": "code",
   "execution_count": null,
   "metadata": {},
   "outputs": [],
   "source": []
  },
  {
   "cell_type": "code",
   "execution_count": null,
   "metadata": {},
   "outputs": [],
   "source": [
    "75\n"
   ]
  }
 ],
 "metadata": {
  "kernelspec": {
   "display_name": "Python 3",
   "language": "python",
   "name": "python3"
  },
  "language_info": {
   "codemirror_mode": {
    "name": "ipython",
    "version": 3
   },
   "file_extension": ".py",
   "mimetype": "text/x-python",
   "name": "python",
   "nbconvert_exporter": "python",
   "pygments_lexer": "ipython3",
   "version": "3.6.8"
  }
 },
 "nbformat": 4,
 "nbformat_minor": 2
}
