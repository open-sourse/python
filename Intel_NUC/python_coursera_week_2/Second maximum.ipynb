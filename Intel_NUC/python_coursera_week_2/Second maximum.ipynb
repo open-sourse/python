{
 "cells": [
  {
   "cell_type": "code",
   "execution_count": 3,
   "metadata": {},
   "outputs": [
    {
     "name": "stdout",
     "output_type": "stream",
     "text": [
      "2\n",
      "4\n",
      "5\n",
      "67\n",
      "8\n",
      "5\n",
      "99\n",
      "100\n",
      "0\n",
      "99\n"
     ]
    }
   ],
   "source": [
    "first_max = int(input())\n",
    "second_max = int(input())\n",
    "if first_max < second_max:\n",
    "    first_max, second_max = second_max, first_max\n",
    "element = int(input())\n",
    "while element != 0:\n",
    "    if element > first_max:\n",
    "        second_max, first_max = first_max, element\n",
    "    elif element > second_max:\n",
    "        second_max = element\n",
    "    element = int(input())\n",
    "print(second_max)"
   ]
  }
 ],
 "metadata": {
  "kernelspec": {
   "display_name": "Python 3",
   "language": "python",
   "name": "python3"
  },
  "language_info": {
   "codemirror_mode": {
    "name": "ipython",
    "version": 3
   },
   "file_extension": ".py",
   "mimetype": "text/x-python",
   "name": "python",
   "nbconvert_exporter": "python",
   "pygments_lexer": "ipython3",
   "version": "3.6.8"
  }
 },
 "nbformat": 4,
 "nbformat_minor": 2
}
