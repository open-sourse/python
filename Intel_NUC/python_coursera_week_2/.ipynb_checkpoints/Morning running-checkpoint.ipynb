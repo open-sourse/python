{
 "cells": [
  {
   "cell_type": "code",
   "execution_count": 4,
   "metadata": {},
   "outputs": [
    {
     "name": "stdout",
     "output_type": "stream",
     "text": [
      "10\n",
      "100\n",
      "10.0\n",
      "11.0\n",
      "12.1\n",
      "13.309999999999999\n",
      "14.640999999999998\n",
      "16.105099999999997\n",
      "17.715609999999998\n",
      "19.487170999999996\n",
      "21.435888099999996\n",
      "23.579476909999997\n",
      "25.937424600999996\n",
      "28.531167061099996\n",
      "31.384283767209997\n",
      "34.522712143930995\n",
      "37.974983358324096\n",
      "41.772481694156504\n",
      "45.94972986357215\n",
      "50.544702849929365\n",
      "55.5991731349223\n",
      "61.15909044841453\n",
      "67.27499949325599\n",
      "74.0024994425816\n",
      "81.40274938683976\n",
      "89.54302432552373\n",
      "98.4973267580761\n",
      "26\n"
     ]
    }
   ],
   "source": [
    "i = float(input())\n",
    "n = float(input())\n",
    "i1 = 1\n",
    "while i <= n:\n",
    "    print(i)\n",
    "    i = i + i*0.1\n",
    "    i1 = i1 + 1\n",
    "print(i1)"
   ]
  }
 ],
 "metadata": {
  "kernelspec": {
   "display_name": "Python 3",
   "language": "python",
   "name": "python3"
  },
  "language_info": {
   "codemirror_mode": {
    "name": "ipython",
    "version": 3
   },
   "file_extension": ".py",
   "mimetype": "text/x-python",
   "name": "python",
   "nbconvert_exporter": "python",
   "pygments_lexer": "ipython3",
   "version": "3.6.8"
  }
 },
 "nbformat": 4,
 "nbformat_minor": 2
}
