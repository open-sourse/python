{
 "cells": [
  {
   "cell_type": "code",
   "execution_count": 2,
   "metadata": {},
   "outputs": [
    {
     "name": "stdout",
     "output_type": "stream",
     "text": [
      "4\n",
      "3\n",
      "7\n",
      "3 4 7 "
     ]
    }
   ],
   "source": [
    "a = int(input())\n",
    "b = int(input())\n",
    "c = int(input())\n",
    "if a < b and a < c:\n",
    "    print(a, end=' ')\n",
    "if b < a and b < c:\n",
    "    print(b, end=' ')\n",
    "if c < a and c < b:\n",
    "    print(c, end=' ')\n",
    "if b < a < c:\n",
    "    print(a, end=' ')\n",
    "if a < b < c:\n",
    "    print(b, end=' ')\n",
    "if a < c < b:\n",
    "    print(c, end=' ')\n",
    "if c < a < b:\n",
    "    print(a, end=' ')\n",
    "if c < b < a:\n",
    "    print(b, end=' ')\n",
    "if b < c < a:\n",
    "    print(c, end=' ')\n",
    "if a > b and a > c:\n",
    "    print(a, end=' ')\n",
    "if b > a and b > c:\n",
    "    print(b, end=' ')\n",
    "if c > a and c > b:\n",
    "    print(c, end=' ')"
   ]
  },
  {
   "cell_type": "code",
   "execution_count": null,
   "metadata": {},
   "outputs": [],
   "source": []
  }
 ],
 "metadata": {
  "kernelspec": {
   "display_name": "Python 3",
   "language": "python",
   "name": "python3"
  },
  "language_info": {
   "codemirror_mode": {
    "name": "ipython",
    "version": 3
   },
   "file_extension": ".py",
   "mimetype": "text/x-python",
   "name": "python",
   "nbconvert_exporter": "python",
   "pygments_lexer": "ipython3",
   "version": "3.6.8"
  }
 },
 "nbformat": 4,
 "nbformat_minor": 2
}
