{
 "cells": [
  {
   "cell_type": "code",
   "execution_count": 1,
   "metadata": {},
   "outputs": [
    {
     "name": "stdout",
     "output_type": "stream",
     "text": [
      "2\n",
      "2\n",
      "3\n",
      "3\n",
      "2\n",
      "1\n",
      "The first box is larger than the second one\n"
     ]
    }
   ],
   "source": [
    "a, b, c = int(input()), int(input()), int(input())\n",
    "x, y, z = int(input()), int(input()), int(input())\n",
    "if a > c:\n",
    "    a, c = c, a\n",
    "if b > c:\n",
    "    b, c = c, b\n",
    "if a > b:\n",
    "    a, b = b, a\n",
    "if x > z:\n",
    "    x, z = z, x\n",
    "if y > z:\n",
    "    y, z = z, y\n",
    "if x > y:\n",
    "    x, y = y, x\n",
    "if a == x and b == y and c == z:\n",
    "    print('Boxes are equal')\n",
    "elif a <= x and b <= y and c <= z:\n",
    "    print('The first box is smaller than the second one')\n",
    "elif a >= x and b >= y and c >= z: \n",
    "    print('The first box is larger than the second one')\n",
    "else:\n",
    "    print('Boxes are incomparable')"
   ]
  }
 ],
 "metadata": {
  "kernelspec": {
   "display_name": "Python 3",
   "language": "python",
   "name": "python3"
  },
  "language_info": {
   "codemirror_mode": {
    "name": "ipython",
    "version": 3
   },
   "file_extension": ".py",
   "mimetype": "text/x-python",
   "name": "python",
   "nbconvert_exporter": "python",
   "pygments_lexer": "ipython3",
   "version": "3.6.8"
  }
 },
 "nbformat": 4,
 "nbformat_minor": 2
}
