{
 "cells": [
  {
   "cell_type": "code",
   "execution_count": 1,
   "metadata": {},
   "outputs": [
    {
     "name": "stdout",
     "output_type": "stream",
     "text": [
      "2\n",
      "3\n",
      "1\n",
      "3\n",
      "3\n",
      "YES\n"
     ]
    }
   ],
   "source": [
    "#размер кирпича\n",
    "A = int((input()))\n",
    "B = int((input()))\n",
    "C = int((input()))\n",
    "#размер отверстия\n",
    "D = int((input()))\n",
    "E = int((input())) \n",
    "if D >= A or D >= B or D >= C:\n",
    "    if E >= A or E >= B or E >= С:\n",
    "        print(\"YES\")\n",
    "if D < A or D < B or D < C:\n",
    "    if E < A or E < B or E < C:\n",
    "        print(\"NO\")"
   ]
  },
  {
   "cell_type": "code",
   "execution_count": null,
   "metadata": {},
   "outputs": [],
   "source": []
  }
 ],
 "metadata": {
  "kernelspec": {
   "display_name": "Python 3",
   "language": "python",
   "name": "python3"
  },
  "language_info": {
   "codemirror_mode": {
    "name": "ipython",
    "version": 3
   },
   "file_extension": ".py",
   "mimetype": "text/x-python",
   "name": "python",
   "nbconvert_exporter": "python",
   "pygments_lexer": "ipython3",
   "version": "3.6.8"
  }
 },
 "nbformat": 4,
 "nbformat_minor": 2
}
