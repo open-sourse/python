{
 "cells": [
  {
   "cell_type": "code",
   "execution_count": 2,
   "metadata": {},
   "outputs": [
    {
     "name": "stdout",
     "output_type": "stream",
     "text": [
      "1 2 4 2 5 7 44 4 6 2 53 74 32  5 72 22\n",
      "1 2 2 2 4 4 5 5 6 7 22 32 44 53 72 74\n"
     ]
    }
   ],
   "source": [
    "myList = list(map(int, input().split()))\n",
    "myList.sort()\n",
    "print(' '.join(map(str, myList)))"
   ]
  },
  {
   "cell_type": "code",
   "execution_count": 3,
   "metadata": {},
   "outputs": [
    {
     "name": "stdout",
     "output_type": "stream",
     "text": [
      "1 2 6 5 3 8 5 6 2  9 0 6 4 2 6 7 5 3\n",
      "0 1 2 2 2 3 3 4 5 5 5 6 6 6 6 7 8 9\n"
     ]
    }
   ],
   "source": [
    "myList = list(map(int, input().split()))\n",
    "sortedList = sorted(myList)\n",
    "print(' '.join(map(str, sortedList)))"
   ]
  },
  {
   "cell_type": "code",
   "execution_count": 7,
   "metadata": {},
   "outputs": [
    {
     "name": "stdout",
     "output_type": "stream",
     "text": [
      "ergmgreiogkvrokv\n",
      "[1, 2, 3]\n",
      "[0, 2, 4, 6, 8, 10]\n",
      "['ergmgreiogkvrokv']\n"
     ]
    }
   ],
   "source": [
    "myList = list(map(str, input().split()))\n",
    "print(sorted((1, 3, 2)))\n",
    "print(sorted(range(10, -1, -2)))\n",
    "print(sorted(myList))"
   ]
  },
  {
   "cell_type": "code",
   "execution_count": 11,
   "metadata": {},
   "outputs": [
    {
     "name": "stdout",
     "output_type": "stream",
     "text": [
      "5\n",
      "3 4 5 6 7\n",
      "5\n",
      "[3, 4, 5, 6, 7]\n"
     ]
    }
   ],
   "source": [
    "n = int(input())\n",
    "a = map(int, input().split(maxsplit = n))\n",
    "print(n)\n",
    "print(list(a))"
   ]
  },
  {
   "cell_type": "markdown",
   "metadata": {},
   "source": [
    "### n = int(input())\n",
    "peopleList = []\n",
    "for i in range(n):\n",
    "    tempManData = input().split()\n",
    "    manData = (int(tempManData[0]), tempManData[1])\n",
    "    peopleList.append(manData)\n",
    "peopleList.sort()\n",
    "for manData in peopleList:\n",
    "    print(' '.join(map(str, manData)))"
   ]
  },
  {
   "cell_type": "code",
   "execution_count": 12,
   "metadata": {},
   "outputs": [
    {
     "name": "stdout",
     "output_type": "stream",
     "text": [
      "1 2 3\n",
      "3\n",
      "2\n",
      "1\n"
     ]
    }
   ],
   "source": [
    "\n",
    "def printList(myList, sep=' '):\n",
    "    print(sep.join(map(str, myList)))\n",
    "\n",
    "printList([1, 2, 3])\n",
    "printList([3, 2, 1], sep='\\n')"
   ]
  },
  {
   "cell_type": "code",
   "execution_count": 13,
   "metadata": {},
   "outputs": [
    {
     "name": "stdout",
     "output_type": "stream",
     "text": [
      "3\n",
      "10\n"
     ]
    }
   ],
   "source": [
    "def mySum(*args):\n",
    "    nowSum = 0\n",
    "    for now in args:\n",
    "        nowSum += now\n",
    "    return nowSum\n",
    "\n",
    "print(mySum(1, 2))\n",
    "print(mySum(1, 2, 3, 4))"
   ]
  },
  {
   "cell_type": "code",
   "execution_count": 15,
   "metadata": {},
   "outputs": [
    {
     "name": "stdout",
     "output_type": "stream",
     "text": [
      "\n"
     ]
    }
   ],
   "source": [
    "marks = map(int, input().split())\n",
    "cntMarks = [0] * 11\n",
    "for mark in marks:\n",
    "    cntMarks[mark] += 1\n",
    "for nowMark in range(11):\n",
    "    print((str(nowMark) + ' ') * cntMarks[nowMark], end='')"
   ]
  },
  {
   "cell_type": "code",
   "execution_count": null,
   "metadata": {},
   "outputs": [],
   "source": []
  }
 ],
 "metadata": {
  "kernelspec": {
   "display_name": "Python 3",
   "language": "python",
   "name": "python3"
  },
  "language_info": {
   "codemirror_mode": {
    "name": "ipython",
    "version": 3
   },
   "file_extension": ".py",
   "mimetype": "text/x-python",
   "name": "python",
   "nbconvert_exporter": "python",
   "pygments_lexer": "ipython3",
   "version": "3.6.8"
  }
 },
 "nbformat": 4,
 "nbformat_minor": 2
}
