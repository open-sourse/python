{
 "cells": [
  {
   "cell_type": "code",
   "execution_count": null,
   "metadata": {},
   "outputs": [],
   "source": [
    "def merger(a, b):\n",
    "    new_list = []\n",
    "    d = a + b\n",
    "    while d:\n",
    "        delete_num = min(d)\n",
    "        while delete_num in d:\n",
    "            new_list.append(delete_num)\n",
    "            d.remove(delete_num)\n",
    "    return new_list\n",
    "\n",
    "list_a = list(map(int, input().split()))\n",
    "list_b = list(map(int, input().split()))\n",
    "merger(a, b)"
   ]
  },
  {
   "cell_type": "code",
   "execution_count": 8,
   "metadata": {},
   "outputs": [
    {
     "name": "stdout",
     "output_type": "stream",
     "text": [
      "1 2 3 4 5 6 7 8 9 0\n",
      "1 3 4 6 7 0\n",
      "1 3 4 6 7 0 "
     ]
    }
   ],
   "source": [
    "def Intersection(A, B):\n",
    "    for i in range(len(A)):\n",
    "        for k in range(len(B)):\n",
    "            if A[i] == B[k]:\n",
    "                print(A[i],end=\" \")\n",
    "        \n",
    "A = list(map(int, input().split()))\n",
    "B = list(map(int, input().split()))\n",
    "Intersection(A, B)"
   ]
  },
  {
   "cell_type": "code",
   "execution_count": 12,
   "metadata": {},
   "outputs": [
    {
     "name": "stdout",
     "output_type": "stream",
     "text": [
      "1 2 3 4 5 6 7 8 9 0\n",
      "2 4 7\n"
     ]
    }
   ],
   "source": [
    "def Intersection(A, B):\n",
    "    i = 0\n",
    "    k = 0\n",
    "    while i < len(A):\n",
    "        while k < len(B):\n",
    "            if A[i] == B[k]:\n",
    "                print(A[i],end=\" \")\n",
    "            k = k + 1\n",
    "        i = i + 1\n",
    "        \n",
    "A = list(map(int, input().split()))\n",
    "B = list(map(int, input().split()))\n",
    "Intersection(A, B)"
   ]
  },
  {
   "cell_type": "code",
   "execution_count": 11,
   "metadata": {},
   "outputs": [
    {
     "name": "stdout",
     "output_type": "stream",
     "text": [
      "1 2 3 4 5 6 7 8 9 0\n",
      "2 6\n"
     ]
    }
   ],
   "source": [
    "def Intersection(A, B):\n",
    "    i = 0\n",
    "    k = 0\n",
    "    while i < len(A):\n",
    "        while k < len(B):\n",
    "            if A[i] == B[k]:\n",
    "                print(A[i],end=\" \")\n",
    "            k = k + 1\n",
    "        i = i + 1\n",
    "\n",
    "        \n",
    "A = list(map(int, input().split()))\n",
    "B = list(map(int, input().split()))\n",
    "Intersection(A, B)"
   ]
  },
  {
   "cell_type": "code",
   "execution_count": 16,
   "metadata": {},
   "outputs": [
    {
     "name": "stdout",
     "output_type": "stream",
     "text": [
      "1 2 3 4 5 6 7 8 9 0\n",
      "1 3 5 7 9\n",
      "0 0\n",
      "2 1\n",
      "4 2\n",
      "6 3\n",
      "8 4\n"
     ]
    }
   ],
   "source": [
    "A = list(map(int, input().split()))\n",
    "B = list(map(int, input().split()))\n",
    "C = set(A).intersection(B)\n",
    " \n",
    "for v in C:\n",
    "    print(A.index(v), B.index(v))\n"
   ]
  },
  {
   "cell_type": "code",
   "execution_count": null,
   "metadata": {},
   "outputs": [],
   "source": [
    "' '.join(map(str, a.index(v)))"
   ]
  }
 ],
 "metadata": {
  "kernelspec": {
   "display_name": "Python 3",
   "language": "python",
   "name": "python3"
  },
  "language_info": {
   "codemirror_mode": {
    "name": "ipython",
    "version": 3
   },
   "file_extension": ".py",
   "mimetype": "text/x-python",
   "name": "python",
   "nbconvert_exporter": "python",
   "pygments_lexer": "ipython3",
   "version": "3.6.8"
  }
 },
 "nbformat": 4,
 "nbformat_minor": 2
}
