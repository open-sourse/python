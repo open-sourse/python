{
 "cells": [
  {
   "cell_type": "code",
   "execution_count": 2,
   "metadata": {},
   "outputs": [
    {
     "name": "stdout",
     "output_type": "stream",
     "text": [
      "400 7\n",
      "50\n",
      "240\n",
      "19\n",
      "20\n",
      "50\n",
      "30\n",
      "30\n",
      "6\n"
     ]
    }
   ],
   "source": [
    "S, N = map(int, input().split())\n",
    "volume = sorted([int(input()) for _ in range(N)])\n",
    "amount = sum(volume)\n",
    "while amount > S and N:\n",
    "    amount -= volume.pop()\n",
    "    N -= 1\n",
    "print(N)"
   ]
  },
  {
   "cell_type": "code",
   "execution_count": null,
   "metadata": {},
   "outputs": [],
   "source": []
  }
 ],
 "metadata": {
  "kernelspec": {
   "display_name": "Python 3",
   "language": "python",
   "name": "python3"
  },
  "language_info": {
   "codemirror_mode": {
    "name": "ipython",
    "version": 3
   },
   "file_extension": ".py",
   "mimetype": "text/x-python",
   "name": "python",
   "nbconvert_exporter": "python",
   "pygments_lexer": "ipython3",
   "version": "3.6.8"
  }
 },
 "nbformat": 4,
 "nbformat_minor": 2
}
